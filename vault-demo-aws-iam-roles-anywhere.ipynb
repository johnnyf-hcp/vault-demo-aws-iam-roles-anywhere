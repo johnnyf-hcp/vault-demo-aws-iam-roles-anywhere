{
 "cells": [
  {
   "cell_type": "markdown",
   "metadata": {},
   "source": [
    "# HashiCorp Vault Demo with AWS IAM Roles Anywhere \n",
    "\n",
    "AWS has a feature called AWS IAM Roles Anywhere for workloads running outside of AWS.\n",
    "\n",
    "This feature allow workloads running outside of AWS to assume AWS Credentials to perform actions (e.g. store backups on S3) and not have to use hardcoded AWS credentials.\n",
    "\n",
    "This demo shows combine AWS IAM Roles Anywhere with HashiCorp Vault to use Vault as the Trust anchor to request AWS Credentials based on a PKI that is managed via Vault.\n",
    "\n",
    "Ref: \n",
    "- https://developer.hashicorp.com/vault/docs/secrets/pki\n",
    "- https://koudingspawn.de/combine-vault-with-iam-anywhere/\n",
    "\n",
    "<img src=\"images/vault-demo-aws-iam-roles-anywhere.png\">"
   ]
  },
  {
   "cell_type": "markdown",
   "metadata": {},
   "source": [
    "## Setup of the Demo\n",
    "\n",
    "This setup is tested on MacOS and is meant to simulate a distributed setup. The components used in this demo are:\n",
    "\n",
    "- Vault Enterprise installed on docker (to simulate an external Vault)\n",
    "- You have the Vault CLI installed\n",
    "\n",
    "This assumes your Vault server is installed using docker and already running on http://127.0.0.1:8200 and you have set your VAULT_ADDR and VAULT_TOKEN variables.\n",
    "\n",
    "## Requirements to Run This Demo\n",
    "You will need Visual Studio Code to be installed with the Jupyter plugin.  To run this notebook in VS Code, chose the Jupyter kernel and then Bash.\n",
    "- To run the current cell, use Ctrl + Enter.\n",
    "- To run the current cell and advance to the next, use Shift+Enter."
   ]
  },
  {
   "cell_type": "markdown",
   "metadata": {
    "vscode": {
     "languageId": "shellscript"
    }
   },
   "source": [
    "# Setup Pre-requisites (One-time)\n",
    "\n",
    "Assumes you have docker installed and brew installed\n",
    "\n",
    "- https://docs.docker.com/desktop/install/mac-install/\n",
    "- https://brew.sh/"
   ]
  },
  {
   "cell_type": "code",
   "execution_count": null,
   "metadata": {
    "vscode": {
     "languageId": "shellscript"
    }
   },
   "outputs": [],
   "source": [
    "# Install AWS CLI\n",
    "brew install awscli"
   ]
  },
  {
   "cell_type": "code",
   "execution_count": null,
   "metadata": {
    "vscode": {
     "languageId": "shellscript"
    }
   },
   "outputs": [],
   "source": [
    "# Download AWS signing helper. This is used to obtain temporary security credentials from AWS IAM Roles Anywhere.\n",
    "# Ref: https://docs.aws.amazon.com/rolesanywhere/latest/userguide/credential-helper.html\n",
    "curl -o aws_signing_helper https://rolesanywhere.amazonaws.com/releases/1.1.1/X86_64/Darwin/aws_signing_helper\n",
    "\n",
    "# Make the helper executable\n",
    "chmod +x aws_signing_helper\n"
   ]
  },
  {
   "cell_type": "code",
   "execution_count": null,
   "metadata": {
    "vscode": {
     "languageId": "shellscript"
    }
   },
   "outputs": [],
   "source": [
    "# Setup your AWS IAM programmatic keys that has permissions to configure AWS IAM Roles Anywhere.\n",
    "# We will be using these credentials with the AWS CLI commands later.\n",
    "# For demo purposes, you can create a user and attach the \"AdministratorAccess\" policy to it.\n",
    "# Create an access key under this user and export the AWS_ACCESS_KEY_ID and AWS_SECRET_ACCESS_KEY values here.\n",
    "# Ref: https://docs.aws.amazon.com/IAM/latest/UserGuide/security-creds-programmatic-access.html\n",
    "export AWS_ACCESS_KEY_ID=\n",
    "export AWS_SECRET_ACCESS_KEY=\n",
    "unset AWS_SESSION_TOKEN"
   ]
  },
  {
   "cell_type": "code",
   "execution_count": null,
   "metadata": {
    "vscode": {
     "languageId": "shellscript"
    }
   },
   "outputs": [],
   "source": [
    "# Set to your local region\n",
    "aws configure set region ap-southeast-1"
   ]
  },
  {
   "cell_type": "code",
   "execution_count": null,
   "metadata": {
    "vscode": {
     "languageId": "shellscript"
    }
   },
   "outputs": [],
   "source": [
    "# Verify that the credentials work. You should see your configured IAM users in your AWS account.\n",
    "aws iam list-users"
   ]
  },
  {
   "cell_type": "markdown",
   "metadata": {},
   "source": [
    "## Setup Vault as a CA to serve as the Trust Anchor"
   ]
  },
  {
   "cell_type": "code",
   "execution_count": null,
   "metadata": {
    "vscode": {
     "languageId": "shellscript"
    }
   },
   "outputs": [],
   "source": [
    "# Optional.  The following are some sample commands for running Vault Enterprise in docker.\n",
    "export VAULT_PORT=8200\n",
    "export VAULT_ADDR=\"http://127.0.0.1:${VAULT_PORT}\"\n",
    "export VAULT_TOKEN=\"root\"\n",
    "# Change the path to your license file\n",
    "export VAULT_LICENSE=$(cat $HOME/vault-enterprise/vault_local/data/vault.hclic)\n",
    "docker run -d --rm --name vault-enterprise --cap-add=IPC_LOCK \\\n",
    "-e \"VAULT_DEV_ROOT_TOKEN_ID=${VAULT_TOKEN}\" \\\n",
    "-e \"VAULT_DEV_LISTEN_ADDRESS=:${VAULT_PORT}\" \\\n",
    "-e \"VAULT_LICENSE=${VAULT_LICENSE}\" \\\n",
    "-p ${VAULT_PORT}:${VAULT_PORT} hashicorp/vault-enterprise:latest"
   ]
  },
  {
   "cell_type": "code",
   "execution_count": null,
   "metadata": {
    "vscode": {
     "languageId": "shellscript"
    }
   },
   "outputs": [],
   "source": [
    "# Enable PKI engine at the default mount path\n",
    "vault secrets enable pki"
   ]
  },
  {
   "cell_type": "code",
   "execution_count": null,
   "metadata": {
    "vscode": {
     "languageId": "shellscript"
    }
   },
   "outputs": [],
   "source": [
    "# configure max lease ttl on certificates - 8760h or 365 days\n",
    "vault secrets tune -max-lease-ttl=8760h pki"
   ]
  },
  {
   "cell_type": "code",
   "execution_count": null,
   "metadata": {
    "vscode": {
     "languageId": "shellscript"
    }
   },
   "outputs": [],
   "source": [
    "# Create the CA, the private key is kept inside Vault.\n",
    "# Alternatively, generate an intermediate CA and sign with your root CA.\n",
    "# CA cert is valid for 8760h or 365 days\n",
    "vault write pki/root/generate/internal \\\n",
    "    common_name=my-org.com \\\n",
    "    ttl=8760h"
   ]
  },
  {
   "cell_type": "code",
   "execution_count": null,
   "metadata": {
    "vscode": {
     "languageId": "shellscript"
    }
   },
   "outputs": [],
   "source": [
    "# configure Vault with the URL's for CRL\n",
    "vault write pki/config/urls \\\n",
    "    issuing_certificates=\"http://127.0.0.1:8200/v1/pki/ca\" \\\n",
    "    crl_distribution_points=\"http://127.0.0.1:8200/v1/pki/crl\""
   ]
  },
  {
   "cell_type": "code",
   "execution_count": null,
   "metadata": {
    "vscode": {
     "languageId": "shellscript"
    }
   },
   "outputs": [],
   "source": [
    "# Store the CA certificate, we will use this later when setting up the trust anchor in AWS IAM Roles Anywhere.\n",
    "curl http://127.0.0.1:8200/v1/pki/ca_chain > ca.crt\n",
    "echo\n",
    "echo \"CA Certificate:\"\n",
    "cat ca.crt\n"
   ]
  },
  {
   "cell_type": "markdown",
   "metadata": {},
   "source": [
    "## Configure AWS IAM Roles Anywhere\n",
    "\n",
    "1. Setup Trust Anchor\n",
    "2. Configure IAM Role\n",
    "3. Configure IAM Policy\n",
    "4. Attach IAM Policy to IAM Role\n",
    "5. Create IAM Roles Anywhere Profile with IAM Role details"
   ]
  },
  {
   "cell_type": "code",
   "execution_count": null,
   "metadata": {
    "vscode": {
     "languageId": "shellscript"
    }
   },
   "outputs": [],
   "source": [
    "# Create a trust anchor in AWS IAM Roles Anywhere using Vault's CA certificate.\n",
    "aws rolesanywhere create-trust-anchor \\\n",
    "    --name \"VaultTrustAnchor\" \\\n",
    "    --source \"sourceType=CERTIFICATE_BUNDLE,sourceData={x509CertificateData=$(cat ca.crt)}\" \\\n",
    "    --output json > trustanchor.json\n",
    "echo\n",
    "cat trustanchor.json\n",
    "\n",
    "# Enable the trust anchor\n",
    "export TRUST_ANCHOR_ID=$(jq -r .trustAnchor.trustAnchorId < trustanchor.json)\n",
    "aws rolesanywhere enable-trust-anchor --trust-anchor-id $TRUST_ANCHOR_ID\n",
    "\n",
    "# Store the Trust Anchor ARN to be used by the aws_signing_helper\n",
    "export TRUST_ANCHOR_ARN=$(jq -r .trustAnchor.trustAnchorArn < trustanchor.json)\n"
   ]
  },
  {
   "cell_type": "code",
   "execution_count": null,
   "metadata": {
    "vscode": {
     "languageId": "shellscript"
    }
   },
   "outputs": [],
   "source": [
    "# Verify that the trust anchor was created\n",
    "aws rolesanywhere list-trust-anchors --no-paginate"
   ]
  },
  {
   "cell_type": "code",
   "execution_count": null,
   "metadata": {
    "vscode": {
     "languageId": "shellscript"
    }
   },
   "outputs": [],
   "source": [
    "# Create an IAM role that can be assumed by the on-prem machine\n",
    "aws iam create-role --role-name on-prem-instance-role --assume-role-policy-document file://assume-role-doc.json --output json > role.json\n",
    "echo\n",
    "cat role.json\n",
    "\n",
    "# Store the Role ARN to be used when creating the IAM Roles Anywhere Profile and by the aws_signing_helper \n",
    "export ROLE_ARN=$(jq -r .Role.Arn < role.json)"
   ]
  },
  {
   "cell_type": "code",
   "execution_count": null,
   "metadata": {
    "vscode": {
     "languageId": "shellscript"
    }
   },
   "outputs": [],
   "source": [
    "# Create a policy for the permissions used by the IAM role\n",
    "cat on-prem-policy-doc.json\n",
    "echo\n",
    "aws iam create-policy \\\n",
    "    --policy-name on-prem-instance-policy \\\n",
    "    --policy-document file://on-prem-policy-doc.json --output json > policy.json\n",
    "echo\n",
    "cat policy.json\n",
    "\n",
    "# Store the Policy ARN to be used when creating the IAM Roles Anywhere Profile\n",
    "export POLICY_ARN=$(jq -r .Policy.Arn < policy.json)"
   ]
  },
  {
   "cell_type": "code",
   "execution_count": null,
   "metadata": {
    "vscode": {
     "languageId": "shellscript"
    }
   },
   "outputs": [],
   "source": [
    "# Attach the policy to the role\n",
    "aws iam attach-role-policy --role-name on-prem-instance-role --policy-arn $POLICY_ARN\n",
    "\n",
    "# List the policies attached to the role\n",
    "aws iam list-attached-role-policies --role-name on-prem-instance-role"
   ]
  },
  {
   "cell_type": "code",
   "execution_count": null,
   "metadata": {
    "vscode": {
     "languageId": "shellscript"
    }
   },
   "outputs": [],
   "source": [
    "# Create an IAM Roles Anywhere profile that links the earlier created IAM role and policy.\n",
    "echo \"Role ARN: $ROLE_ARN\"\n",
    "#echo \"Policy ARN: $POLICY_ARN\"\n",
    "\n",
    "aws rolesanywhere create-profile \\\n",
    "    --name \"OnPremInstanceProfile\" \\\n",
    "    --role-arns $ROLE_ARN \\\n",
    "    --output json > profile.json\n",
    "# Adding this did not work. Added the policy to the role instead.\n",
    "#    --managed-policy-arns $POLICY_ARN \\\n",
    "\n",
    "echo\n",
    "cat profile.json\n",
    "\n",
    "# Enable the profile\n",
    "export PROFILE_ID=$(jq -r .profile.profileId < profile.json)\n",
    "aws rolesanywhere enable-profile --profile-id $PROFILE_ID\n",
    "\n",
    "# Store the Profile ARN to be used by the aws_signing_helper\n",
    "export PROFILE_ARN=$(jq -r .profile.profileArn < profile.json)"
   ]
  },
  {
   "cell_type": "markdown",
   "metadata": {},
   "source": [
    "## Create certificate for on-prem instance and use aws_signing_helper to get temporary AWS credentials"
   ]
  },
  {
   "cell_type": "code",
   "execution_count": null,
   "metadata": {
    "vscode": {
     "languageId": "shellscript"
    }
   },
   "outputs": [],
   "source": [
    "# Configure certificate for the on-prem instance.  Set TTL to 30s for demo.\n",
    "vault write pki/roles/on-prem-instance \\\n",
    "    allowed_domains=on-prem-instance \\\n",
    "    allow_bare_domains=true \\\n",
    "    allow_subdomains=true \\\n",
    "    max_ttl=30s"
   ]
  },
  {
   "cell_type": "code",
   "execution_count": null,
   "metadata": {
    "vscode": {
     "languageId": "shellscript"
    }
   },
   "outputs": [],
   "source": [
    "# Generate the cert for use by IAM Roles Anywhere\n",
    "# Note the TTL is set to 30s for demo purposes.\n",
    "vault write -format=json pki/issue/on-prem-instance \\\n",
    "    common_name=\"on-prem-instance\" > cert.json\n",
    "jq -r .data.certificate < cert.json > cert.pem\n",
    "jq -r .data.private_key < cert.json > private.pem"
   ]
  },
  {
   "cell_type": "code",
   "execution_count": null,
   "metadata": {
    "vscode": {
     "languageId": "shellscript"
    }
   },
   "outputs": [],
   "source": [
    "# Request temporary AWS IAM Credentials via AWS IAM Roles Anywhere\n",
    "# If you run this command 30 seconds later, you will see an \"AccessDeniedException: Untrusted signing certificate\" error.\n",
    "# This is expected due to the configured TTL.\n",
    "echo \"Trust Anchor ARN: $TRUST_ANCHOR_ARN\"\n",
    "echo \"Profile ARN: $PROFILE_ARN\"\n",
    "echo \"Role ARN: $ROLE_ARN\"\n",
    "\n",
    "./aws_signing_helper credential-process \\\n",
    "    --certificate cert.pem \\\n",
    "    --private-key private.pem \\\n",
    "    --trust-anchor-arn $TRUST_ANCHOR_ARN \\\n",
    "    --profile-arn $PROFILE_ARN \\\n",
    "    --role-arn $ROLE_ARN > aws_credentials.json\n",
    "echo\n",
    "cat aws_credentials.json | jq"
   ]
  },
  {
   "cell_type": "code",
   "execution_count": null,
   "metadata": {
    "vscode": {
     "languageId": "shellscript"
    }
   },
   "outputs": [],
   "source": [
    "# Verify that the returned temporary credentials work. You should see your configured IAM users in your AWS account.\n",
    "AWS_ACCESS_KEY_ID=$(jq -r .AccessKeyId < aws_credentials.json) \\\n",
    "AWS_SECRET_ACCESS_KEY=$(jq -r .SecretAccessKey < aws_credentials.json) \\\n",
    "AWS_SESSION_TOKEN=$(jq -r .SessionToken < aws_credentials.json) \\\n",
    "aws iam list-users"
   ]
  },
  {
   "cell_type": "markdown",
   "metadata": {},
   "source": [
    "# Cleanup"
   ]
  },
  {
   "cell_type": "code",
   "execution_count": null,
   "metadata": {
    "vscode": {
     "languageId": "shellscript"
    }
   },
   "outputs": [],
   "source": [
    "# Cleanup\n",
    "\n",
    "# Delete the trust anchor\n",
    "export trustanchorid=$(jq -r .trustAnchor.trustAnchorId < trustanchor.json)\n",
    "echo \"Deleting Anchor ID: $trustanchorid\"\n",
    "aws rolesanywhere delete-trust-anchor --trust-anchor-id $trustanchorid\n",
    "\n",
    "# Delete the profile\n",
    "aws rolesanywhere delete-profile --profile-id $PROFILE_ID\n",
    "\n",
    "# Detach the policy from the role\n",
    "aws iam detach-role-policy --role-name on-prem-instance-role --policy-arn $POLICY_ARN\n",
    "\n",
    "# Delete IAM role\n",
    "aws iam delete-role --role-name on-prem-instance-role\n",
    "\n",
    "# Delete IAM policy\n",
    "aws iam delete-policy --policy-arn $(jq -r .Policy.Arn < policy.json)\n",
    "\n",
    "# Make sure this portion is cleaned up before you clean up the temp files."
   ]
  },
  {
   "cell_type": "code",
   "execution_count": null,
   "metadata": {
    "vscode": {
     "languageId": "shellscript"
    }
   },
   "outputs": [],
   "source": [
    "# Remove temp files\n",
    "rm aws_credentials.json\n",
    "rm ca.crt\n",
    "rm trustanchor.json\n",
    "rm role.json\n",
    "rm policy.json\n",
    "rm profile.json\n",
    "rm cert.json\n",
    "rm cert.pem\n",
    "rm private.pem\n",
    "\n",
    "# Disable secrets engine\n",
    "vault secrets disable pki\n",
    "\n",
    "# Stop Vault\n",
    "docker stop vault-enterprise"
   ]
  },
  {
   "cell_type": "code",
   "execution_count": null,
   "metadata": {
    "vscode": {
     "languageId": "shellscript"
    }
   },
   "outputs": [],
   "source": [
    "# Remove the aws_signing_helper (Optional). You can skip this if you plan to re-run the demo.\n",
    "rm aws_signing_helper"
   ]
  },
  {
   "cell_type": "markdown",
   "metadata": {},
   "source": [
    "# Other Useful Commands"
   ]
  }
 ],
 "metadata": {
  "kernelspec": {
   "display_name": "Bash",
   "language": "bash",
   "name": "bash"
  },
  "language_info": {
   "codemirror_mode": "shell",
   "file_extension": ".sh",
   "mimetype": "text/x-sh",
   "name": "bash"
  },
  "orig_nbformat": 4
 },
 "nbformat": 4,
 "nbformat_minor": 2
}
